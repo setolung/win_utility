{
 "cells": [
  {
   "cell_type": "code",
   "execution_count": 3,
   "id": "e70e0889",
   "metadata": {},
   "outputs": [
    {
     "name": "stdout",
     "output_type": "stream",
     "text": [
      "Missing files:\n",
      "d:\\avy\\M\\aarm152.jpg\n",
      "d:\\avy\\M\\AARM152_M107-133-01.07.00.000-01.33.53.566.mp4\n",
      "d:\\avy\\mis\\Mis Pgm 418yua1.m4v\n",
      "d:\\avy\\mis\\mis_pgm_418yua.jpg\n",
      "d:\\avy\\Pure\\CESD839.jpg\n",
      "d:\\avy\\Pure\\cesd839_pur.mp4\n",
      "d:\\avy\\unsen\\STARS-094_120-157UNCENSORED_LEAKED_NOWATERMARK-01.22.00.000-01.57.11.921.mp4\n"
     ]
    }
   ],
   "source": [
    "import os\n",
    "\n",
    "def compare_folders(folder1_path, folder2_path):\n",
    "    missing_files = []\n",
    "\n",
    "    for root, _, files in os.walk(folder1_path):\n",
    "        for file_name in files:\n",
    "            file_path = os.path.join(root, file_name)\n",
    "            relative_path = os.path.relpath(file_path, folder1_path)\n",
    "            missing_file_path = os.path.join(folder2_path, relative_path)\n",
    "            if not os.path.exists(missing_file_path):\n",
    "                missing_files.append(missing_file_path)\n",
    "\n",
    "    return missing_files\n",
    "\n",
    "folder1_path = \"g:\\\\avg\"\n",
    "folder2_path = \"d:\\\\avy\"\n",
    "\n",
    "missing_files = compare_folders(folder1_path, folder2_path)\n",
    "\n",
    "print(\"Missing files:\")\n",
    "for file in missing_files:\n",
    "    print(file)\n"
   ]
  },
  {
   "cell_type": "code",
   "execution_count": null,
   "id": "d21b1a35",
   "metadata": {},
   "outputs": [],
   "source": []
  }
 ],
 "metadata": {
  "kernelspec": {
   "display_name": "Python 3 (ipykernel)",
   "language": "python",
   "name": "python3"
  },
  "language_info": {
   "codemirror_mode": {
    "name": "ipython",
    "version": 3
   },
   "file_extension": ".py",
   "mimetype": "text/x-python",
   "name": "python",
   "nbconvert_exporter": "python",
   "pygments_lexer": "ipython3",
   "version": "3.11.4"
  }
 },
 "nbformat": 4,
 "nbformat_minor": 5
}
